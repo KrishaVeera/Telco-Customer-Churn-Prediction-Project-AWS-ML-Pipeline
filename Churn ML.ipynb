{
 "cells": [
  {
   "cell_type": "code",
   "execution_count": 26,
   "id": "bdb077ce-6f13-4521-898f-7239c89d3ac9",
   "metadata": {},
   "outputs": [
    {
     "name": "stdout",
     "output_type": "stream",
     "text": [
      "Requirement already satisfied: boto3 in /opt/conda/lib/python3.11/site-packages (1.36.3)\n",
      "Requirement already satisfied: pandas in /opt/conda/lib/python3.11/site-packages (2.2.3)\n",
      "Requirement already satisfied: botocore<1.37.0,>=1.36.3 in /opt/conda/lib/python3.11/site-packages (from boto3) (1.36.3)\n",
      "Requirement already satisfied: jmespath<2.0.0,>=0.7.1 in /opt/conda/lib/python3.11/site-packages (from boto3) (1.0.1)\n",
      "Requirement already satisfied: s3transfer<0.12.0,>=0.11.0 in /opt/conda/lib/python3.11/site-packages (from boto3) (0.11.2)\n",
      "Requirement already satisfied: numpy>=1.23.2 in /opt/conda/lib/python3.11/site-packages (from pandas) (1.26.4)\n",
      "Requirement already satisfied: python-dateutil>=2.8.2 in /opt/conda/lib/python3.11/site-packages (from pandas) (2.9.0.post0)\n",
      "Requirement already satisfied: pytz>=2020.1 in /opt/conda/lib/python3.11/site-packages (from pandas) (2024.1)\n",
      "Requirement already satisfied: tzdata>=2022.7 in /opt/conda/lib/python3.11/site-packages (from pandas) (2025.1)\n",
      "Requirement already satisfied: urllib3!=2.2.0,<3,>=1.25.4 in /opt/conda/lib/python3.11/site-packages (from botocore<1.37.0,>=1.36.3->boto3) (2.3.0)\n",
      "Requirement already satisfied: six>=1.5 in /opt/conda/lib/python3.11/site-packages (from python-dateutil>=2.8.2->pandas) (1.17.0)\n",
      "Collecting imbalanced-learn\n",
      "  Downloading imbalanced_learn-0.13.0-py3-none-any.whl.metadata (8.8 kB)\n",
      "Requirement already satisfied: numpy<3,>=1.24.3 in /opt/conda/lib/python3.11/site-packages (from imbalanced-learn) (1.26.4)\n",
      "Requirement already satisfied: scipy<2,>=1.10.1 in /opt/conda/lib/python3.11/site-packages (from imbalanced-learn) (1.15.2)\n",
      "Requirement already satisfied: scikit-learn<2,>=1.3.2 in /opt/conda/lib/python3.11/site-packages (from imbalanced-learn) (1.5.2)\n",
      "Collecting sklearn-compat<1,>=0.1 (from imbalanced-learn)\n",
      "  Downloading sklearn_compat-0.1.3-py3-none-any.whl.metadata (18 kB)\n",
      "Requirement already satisfied: joblib<2,>=1.1.1 in /opt/conda/lib/python3.11/site-packages (from imbalanced-learn) (1.4.2)\n",
      "Requirement already satisfied: threadpoolctl<4,>=2.0.0 in /opt/conda/lib/python3.11/site-packages (from imbalanced-learn) (3.5.0)\n",
      "Downloading imbalanced_learn-0.13.0-py3-none-any.whl (238 kB)\n",
      "Downloading sklearn_compat-0.1.3-py3-none-any.whl (18 kB)\n",
      "Installing collected packages: sklearn-compat, imbalanced-learn\n",
      "Successfully installed imbalanced-learn-0.13.0 sklearn-compat-0.1.3\n"
     ]
    }
   ],
   "source": [
    "# Install dependencies (if not already installed)\n",
    "!pip install boto3 pandas\n",
    "!pip install imbalanced-learn"
   ]
  },
  {
   "cell_type": "code",
   "execution_count": 5,
   "id": "d1ad5cfb-79da-47b0-b19b-c86c3fdcff58",
   "metadata": {},
   "outputs": [],
   "source": [
    "# Import required libraries\n",
    "import boto3\n",
    "import pandas as pd\n",
    "from io import StringIO"
   ]
  },
  {
   "cell_type": "code",
   "execution_count": 6,
   "id": "b56351a7-99aa-4e74-a4fd-0f794e9de049",
   "metadata": {},
   "outputs": [
    {
     "name": "stdout",
     "output_type": "stream",
     "text": [
      "<class 'pandas.core.frame.DataFrame'>\n",
      "RangeIndex: 7043 entries, 0 to 7042\n",
      "Data columns (total 21 columns):\n",
      " #   Column            Non-Null Count  Dtype  \n",
      "---  ------            --------------  -----  \n",
      " 0   customerid        7043 non-null   object \n",
      " 1   gender            7043 non-null   object \n",
      " 2   seniorcitizen     7043 non-null   int64  \n",
      " 3   partner           7043 non-null   int64  \n",
      " 4   dependents        7043 non-null   int64  \n",
      " 5   tenure            7043 non-null   int64  \n",
      " 6   phoneservice      7043 non-null   int64  \n",
      " 7   multiplelines     7043 non-null   object \n",
      " 8   internetservice   7043 non-null   object \n",
      " 9   onlinesecurity    7043 non-null   object \n",
      " 10  onlinebackup      7043 non-null   object \n",
      " 11  deviceprotection  7043 non-null   object \n",
      " 12  techsupport       7043 non-null   object \n",
      " 13  streamingtv       7043 non-null   object \n",
      " 14  streamingmovies   7043 non-null   object \n",
      " 15  contract          7043 non-null   object \n",
      " 16  paperlessbilling  7043 non-null   int64  \n",
      " 17  paymentmethod     7043 non-null   object \n",
      " 18  monthlycharges    7043 non-null   float64\n",
      " 19  totalcharges      7043 non-null   float64\n",
      " 20  churn             7043 non-null   int64  \n",
      "dtypes: float64(2), int64(7), object(12)\n",
      "memory usage: 1.1+ MB\n",
      "None\n",
      "   customerid  gender  seniorcitizen  partner  dependents  tenure  \\\n",
      "0  7590-VHVEG  Female              0        1           0       1   \n",
      "1  5575-GNVDE    Male              0        0           0      34   \n",
      "2  3668-QPYBK    Male              0        0           0       2   \n",
      "3  7795-CFOCW    Male              0        0           0      45   \n",
      "4  9237-HQITU  Female              0        0           0       2   \n",
      "\n",
      "   phoneservice     multiplelines internetservice onlinesecurity  ...  \\\n",
      "0             0  No phone service             DSL             No  ...   \n",
      "1             1                No             DSL            Yes  ...   \n",
      "2             1                No             DSL            Yes  ...   \n",
      "3             0  No phone service             DSL            Yes  ...   \n",
      "4             1                No     Fiber optic             No  ...   \n",
      "\n",
      "  deviceprotection techsupport streamingtv streamingmovies        contract  \\\n",
      "0               No          No          No              No  Month-to-month   \n",
      "1              Yes          No          No              No        One year   \n",
      "2               No          No          No              No  Month-to-month   \n",
      "3              Yes         Yes          No              No        One year   \n",
      "4               No          No          No              No  Month-to-month   \n",
      "\n",
      "  paperlessbilling              paymentmethod monthlycharges  totalcharges  \\\n",
      "0                1           Electronic check          29.85         29.85   \n",
      "1                0               Mailed check          56.95       1889.50   \n",
      "2                1               Mailed check          53.85        108.15   \n",
      "3                0  Bank transfer (automatic)          42.30       1840.75   \n",
      "4                1           Electronic check          70.70        151.65   \n",
      "\n",
      "   churn  \n",
      "0      0  \n",
      "1      0  \n",
      "2      1  \n",
      "3      0  \n",
      "4      1  \n",
      "\n",
      "[5 rows x 21 columns]\n"
     ]
    }
   ],
   "source": [
    "# Define S3 bucket and file path\n",
    "s3_bucket = \"kaggle-churn-data\"  # Replace with your bucket name if different\n",
    "s3_file_path = \"cleaned_data_final.csv\"  # Path in S3\n",
    "\n",
    "# Create an S3 client\n",
    "s3 = boto3.client(\"s3\")\n",
    "\n",
    "# Fetch the CSV file from S3\n",
    "obj = s3.get_object(Bucket=s3_bucket, Key=s3_file_path)\n",
    "\n",
    "# Read it into a Pandas DataFrame\n",
    "df = pd.read_csv(obj[\"Body\"])\n",
    "\n",
    "# Display dataset information\n",
    "print(df.info())\n",
    "print(df.head())\n"
   ]
  },
  {
   "cell_type": "code",
   "execution_count": 8,
   "id": "3e937fe0-cf89-4084-9705-efc09160bee4",
   "metadata": {},
   "outputs": [
    {
     "name": "stdout",
     "output_type": "stream",
     "text": [
      "customerid           object\n",
      "gender               object\n",
      "seniorcitizen         int64\n",
      "partner               int64\n",
      "dependents            int64\n",
      "tenure                int64\n",
      "phoneservice          int64\n",
      "multiplelines        object\n",
      "internetservice      object\n",
      "onlinesecurity       object\n",
      "onlinebackup         object\n",
      "deviceprotection     object\n",
      "techsupport          object\n",
      "streamingtv          object\n",
      "streamingmovies      object\n",
      "contract             object\n",
      "paperlessbilling      int64\n",
      "paymentmethod        object\n",
      "monthlycharges      float64\n",
      "totalcharges        float64\n",
      "churn                 int64\n",
      "dtype: object\n"
     ]
    }
   ],
   "source": [
    "print(df.dtypes)"
   ]
  },
  {
   "cell_type": "code",
   "execution_count": 9,
   "id": "68c7e7ff-e55f-4a4e-927c-3f43843f9961",
   "metadata": {},
   "outputs": [
    {
     "name": "stdout",
     "output_type": "stream",
     "text": [
      "       seniorcitizen      partner   dependents       tenure  phoneservice  \\\n",
      "count    7043.000000  7043.000000  7043.000000  7043.000000   7043.000000   \n",
      "mean        0.162147     0.483033     0.299588    32.371149      0.903166   \n",
      "std         0.368612     0.499748     0.458110    24.559481      0.295752   \n",
      "min         0.000000     0.000000     0.000000     0.000000      0.000000   \n",
      "25%         0.000000     0.000000     0.000000     9.000000      1.000000   \n",
      "50%         0.000000     0.000000     0.000000    29.000000      1.000000   \n",
      "75%         0.000000     1.000000     1.000000    55.000000      1.000000   \n",
      "max         1.000000     1.000000     1.000000    72.000000      1.000000   \n",
      "\n",
      "       paperlessbilling  monthlycharges  totalcharges        churn  \n",
      "count       7043.000000     7043.000000   7043.000000  7043.000000  \n",
      "mean           0.592219       64.761692   2279.734304     0.265370  \n",
      "std            0.491457       30.090047   2266.794470     0.441561  \n",
      "min            0.000000       18.250000      0.000000     0.000000  \n",
      "25%            0.000000       35.500000    398.550000     0.000000  \n",
      "50%            1.000000       70.350000   1394.550000     0.000000  \n",
      "75%            1.000000       89.850000   3786.600000     1.000000  \n",
      "max            1.000000      118.750000   8684.800000     1.000000  \n"
     ]
    }
   ],
   "source": [
    "print(df.describe())"
   ]
  },
  {
   "cell_type": "code",
   "execution_count": 10,
   "id": "4e234177-86fc-4d11-870d-371552f10eef",
   "metadata": {},
   "outputs": [
    {
     "data": {
      "image/png": "[encoded data removed]",
      "text/plain": [
       "<Figure size 640x480 with 1 Axes>"
      ]
     },
     "metadata": {},
     "output_type": "display_data"
    }
   ],
   "source": [
    "import seaborn as sns\n",
    "import matplotlib.pyplot as plt\n",
    "\n",
    "sns.countplot(x=\"churn\", data=df)\n",
    "plt.title(\"Churn Distribution\")\n",
    "plt.show()"
   ]
  },
  {
   "cell_type": "code",
   "execution_count": 11,
   "id": "ee33e98e-c506-402b-8376-6b17435f1fa1",
   "metadata": {},
   "outputs": [
    {
     "data": {
      "image/png": "[encoded data removed]",
      "text/plain": [
       "<Figure size 640x480 with 1 Axes>"
      ]
     },
     "metadata": {},
     "output_type": "display_data"
    }
   ],
   "source": [
    "sns.histplot(df[\"tenure\"], bins=30, kde=True)\n",
    "plt.title(\"Distribution of Tenure\")\n",
    "plt.show()"
   ]
  },
  {
   "cell_type": "code",
   "execution_count": 12,
   "id": "99c5b76a-cab1-4bc8-97f6-92fd48962b9d",
   "metadata": {},
   "outputs": [],
   "source": [
    "from sklearn.preprocessing import MinMaxScaler\n",
    "\n",
    "scaler = MinMaxScaler()\n",
    "num_cols = [\"tenure\", \"monthlycharges\", \"totalcharges\"]\n",
    "df[num_cols] = scaler.fit_transform(df[num_cols])"
   ]
  },
  {
   "cell_type": "code",
   "execution_count": 15,
   "id": "6210370e-827d-4f7e-a048-1c2f68727fbf",
   "metadata": {},
   "outputs": [
    {
     "name": "stdout",
     "output_type": "stream",
     "text": [
      "Training Data: (5634, 20) (5634,)\n",
      "Testing Data: (1409, 20) (1409,)\n"
     ]
    }
   ],
   "source": [
    "from sklearn.model_selection import train_test_split\n",
    "\n",
    "# Define features and target variable\n",
    "X = df.drop(\"churn\", axis=1)  # Features\n",
    "y = df[\"churn\"]  # Target (Churn: 1 or 0)\n",
    "\n",
    "# Split into training (80%) and testing (20%)\n",
    "X_train, X_test, y_train, y_test = train_test_split(X, y, test_size=0.2, random_state=42)\n",
    "\n",
    "print(\"Training Data:\", X_train.shape, y_train.shape)\n",
    "print(\"Testing Data:\", X_test.shape, y_test.shape)"
   ]
  },
  {
   "cell_type": "code",
   "execution_count": 17,
   "id": "26bff42b-d138-4507-9e51-f05f7f82432d",
   "metadata": {},
   "outputs": [
    {
     "name": "stdout",
     "output_type": "stream",
     "text": [
      "customerid           object\n",
      "gender               object\n",
      "seniorcitizen         int64\n",
      "partner               int64\n",
      "dependents            int64\n",
      "tenure              float64\n",
      "phoneservice          int64\n",
      "multiplelines        object\n",
      "internetservice      object\n",
      "onlinesecurity       object\n",
      "onlinebackup         object\n",
      "deviceprotection     object\n",
      "techsupport          object\n",
      "streamingtv          object\n",
      "streamingmovies      object\n",
      "contract             object\n",
      "paperlessbilling      int64\n",
      "paymentmethod        object\n",
      "monthlycharges      float64\n",
      "totalcharges        float64\n",
      "dtype: object\n"
     ]
    }
   ],
   "source": [
    "print(X_train.dtypes)"
   ]
  },
  {
   "cell_type": "code",
   "execution_count": 18,
   "id": "cbc6d2ec-d5eb-430f-9699-af379ee94d26",
   "metadata": {},
   "outputs": [],
   "source": [
    "X_train = X_train.drop(columns=[\"customerid\"], errors=\"ignore\")\n",
    "X_test = X_test.drop(columns=[\"customerid\"], errors=\"ignore\")"
   ]
  },
  {
   "cell_type": "code",
   "execution_count": 20,
   "id": "956bf4e6-3d2e-46c2-95ee-456856bfcdec",
   "metadata": {},
   "outputs": [],
   "source": [
    "X_train = pd.get_dummies(X_train, drop_first=True)\n",
    "X_test = pd.get_dummies(X_test, drop_first=True)"
   ]
  },
  {
   "cell_type": "code",
   "execution_count": 21,
   "id": "9975600e-3626-4c58-8581-33cb62c6e3a3",
   "metadata": {},
   "outputs": [
    {
     "name": "stdout",
     "output_type": "stream",
     "text": [
      "Model Accuracy: 0.8219\n",
      "Classification Report:\n",
      "               precision    recall  f1-score   support\n",
      "\n",
      "           0       0.86      0.90      0.88      1036\n",
      "           1       0.69      0.60      0.64       373\n",
      "\n",
      "    accuracy                           0.82      1409\n",
      "   macro avg       0.78      0.75      0.76      1409\n",
      "weighted avg       0.82      0.82      0.82      1409\n",
      "\n"
     ]
    }
   ],
   "source": [
    "from sklearn.linear_model import LogisticRegression\n",
    "from sklearn.metrics import accuracy_score, classification_report\n",
    "\n",
    "# Initialize and train the model\n",
    "model = LogisticRegression()\n",
    "model.fit(X_train, y_train)\n",
    "\n",
    "# Make predictions\n",
    "y_pred = model.predict(X_test)\n",
    "\n",
    "# Evaluate the model\n",
    "accuracy = accuracy_score(y_test, y_pred)\n",
    "print(f\"Model Accuracy: {accuracy:.4f}\")\n",
    "\n",
    "# Show detailed classification metrics\n",
    "print(\"Classification Report:\\n\", classification_report(y_test, y_pred))\n"
   ]
  },
  {
   "cell_type": "code",
   "execution_count": 22,
   "id": "4d1063ec-777e-4da7-8c73-7821dce119fa",
   "metadata": {},
   "outputs": [
    {
     "name": "stdout",
     "output_type": "stream",
     "text": [
      "Random Forest Accuracy: 0.7906\n",
      "Classification Report:\n",
      "               precision    recall  f1-score   support\n",
      "\n",
      "           0       0.83      0.91      0.86      1036\n",
      "           1       0.64      0.47      0.54       373\n",
      "\n",
      "    accuracy                           0.79      1409\n",
      "   macro avg       0.73      0.69      0.70      1409\n",
      "weighted avg       0.78      0.79      0.78      1409\n",
      "\n"
     ]
    }
   ],
   "source": [
    "from sklearn.ensemble import RandomForestClassifier\n",
    "\n",
    "# Initialize Random Forest model\n",
    "rf_model = RandomForestClassifier(n_estimators=100, random_state=42)\n",
    "\n",
    "# Train the model\n",
    "rf_model.fit(X_train, y_train)\n",
    "\n",
    "# Make predictions\n",
    "y_pred_rf = rf_model.predict(X_test)\n",
    "\n",
    "# Evaluate the model\n",
    "rf_accuracy = accuracy_score(y_test, y_pred_rf)\n",
    "print(f\"Random Forest Accuracy: {rf_accuracy:.4f}\")\n",
    "print(\"Classification Report:\\n\", classification_report(y_test, y_pred_rf))"
   ]
  },
  {
   "cell_type": "code",
   "execution_count": 27,
   "id": "6a49d7ab-74a1-4a76-a477-1433c6623170",
   "metadata": {},
   "outputs": [],
   "source": [
    "from imblearn.over_sampling import SMOTE"
   ]
  },
  {
   "cell_type": "code",
   "execution_count": 28,
   "id": "c8e2a7a7-0d23-49b1-a84a-4f8ae8ac463e",
   "metadata": {},
   "outputs": [
    {
     "name": "stdout",
     "output_type": "stream",
     "text": [
      "New class distribution: churn\n",
      "0    4138\n",
      "1    4138\n",
      "Name: count, dtype: int64\n",
      "SMOTE Logistic Regression Accuracy: 0.7580\n",
      "Classification Report:\n",
      "               precision    recall  f1-score   support\n",
      "\n",
      "           0       0.90      0.75      0.82      1036\n",
      "           1       0.53      0.78      0.63       373\n",
      "\n",
      "    accuracy                           0.76      1409\n",
      "   macro avg       0.72      0.76      0.72      1409\n",
      "weighted avg       0.80      0.76      0.77      1409\n",
      "\n"
     ]
    }
   ],
   "source": [
    "# Apply SMOTE to balance the dataset\n",
    "smote = SMOTE(random_state=42)\n",
    "X_train_smote, y_train_smote = smote.fit_resample(X_train, y_train)\n",
    "\n",
    "print(\"New class distribution:\", y_train_smote.value_counts())\n",
    "\n",
    "# Train Logistic Regression again\n",
    "model_smote = LogisticRegression()\n",
    "model_smote.fit(X_train_smote, y_train_smote)\n",
    "\n",
    "# Make predictions\n",
    "y_pred_smote = model_smote.predict(X_test)\n",
    "\n",
    "# Evaluate new model\n",
    "print(f\"SMOTE Logistic Regression Accuracy: {accuracy_score(y_test, y_pred_smote):.4f}\")\n",
    "print(\"Classification Report:\\n\", classification_report(y_test, y_pred_smote))"
   ]
  },
  {
   "cell_type": "code",
   "execution_count": 29,
   "id": "5e39842c-2684-4086-aeab-8ad779c5c920",
   "metadata": {},
   "outputs": [
    {
     "name": "stderr",
     "output_type": "stream",
     "text": [
      "/opt/conda/lib/python3.11/site-packages/xgboost/core.py:158: UserWarning: [18:42:58] WARNING: /home/conda/feedstock_root/build_artifacts/xgboost-split_1738880431132/work/src/learner.cc:740: \n",
      "Parameters: { \"use_label_encoder\" } are not used.\n",
      "\n",
      "  warnings.warn(smsg, UserWarning)\n"
     ]
    },
    {
     "name": "stdout",
     "output_type": "stream",
     "text": [
      "XGBoost Accuracy: 0.7949\n",
      "Classification Report:\n",
      "               precision    recall  f1-score   support\n",
      "\n",
      "           0       0.84      0.89      0.86      1036\n",
      "           1       0.64      0.52      0.57       373\n",
      "\n",
      "    accuracy                           0.79      1409\n",
      "   macro avg       0.74      0.71      0.72      1409\n",
      "weighted avg       0.79      0.79      0.79      1409\n",
      "\n"
     ]
    }
   ],
   "source": [
    "from xgboost import XGBClassifier\n",
    "\n",
    "xgb_model = XGBClassifier(use_label_encoder=False, eval_metric=\"logloss\")\n",
    "xgb_model.fit(X_train, y_train)\n",
    "\n",
    "y_pred_xgb = xgb_model.predict(X_test)\n",
    "\n",
    "# Evaluate XGBoost\n",
    "print(f\"XGBoost Accuracy: {accuracy_score(y_test, y_pred_xgb):.4f}\")\n",
    "print(\"Classification Report:\\n\", classification_report(y_test, y_pred_xgb))"
   ]
  },
  {
   "cell_type": "code",
   "execution_count": 30,
   "id": "c54c0018-27fa-4ab5-8dd6-321a446e029b",
   "metadata": {},
   "outputs": [
    {
     "data": {
      "text/plain": [
       "['churn_prediction_model.pkl']"
      ]
     },
     "execution_count": 30,
     "metadata": {},
     "output_type": "execute_result"
    }
   ],
   "source": [
    "import joblib\n",
    "\n",
    "# Save the trained model as a .pkl file\n",
    "joblib.dump(model_smote, \"churn_prediction_model.pkl\")"
   ]
  },
  {
   "cell_type": "code",
   "execution_count": 31,
   "id": "7fef306f-7e75-4317-99f1-acd9910010bd",
   "metadata": {},
   "outputs": [
    {
     "name": "stdout",
     "output_type": "stream",
     "text": [
      "Model uploaded to s3://kaggle-churn-data/models/churn_prediction_model.pkl\n"
     ]
    }
   ],
   "source": [
    "import boto3\n",
    "\n",
    "# Define S3 bucket and file path\n",
    "s3_bucket = \"kaggle-churn-data\"  # Change to your bucket name\n",
    "s3_model_path = \"models/churn_prediction_model.pkl\"\n",
    "\n",
    "# Upload model to S3\n",
    "s3 = boto3.client(\"s3\")\n",
    "s3.upload_file(\"churn_prediction_model.pkl\", s3_bucket, s3_model_path)\n",
    "\n",
    "print(f\"Model uploaded to s3://{s3_bucket}/{s3_model_path}\")"
   ]
  },
  {
   "cell_type": "code",
   "execution_count": 32,
   "id": "56bb7677-ff0d-41b8-88cb-eca31f37aa3b",
   "metadata": {},
   "outputs": [
    {
     "name": "stdout",
     "output_type": "stream",
     "text": [
      "Top Features Influencing Churn:\n",
      "monthlycharges: 10.2871\n",
      "tenure: 3.8546\n",
      "internetservice_Fiber optic: 3.4606\n",
      "totalcharges: 1.7138\n",
      "streamingmovies_Yes: 1.3997\n",
      "streamingtv_Yes: 1.2337\n",
      "phoneservice: 1.1391\n",
      "contract_Two year: 1.1074\n",
      "multiplelines_Yes: 0.9170\n",
      "paymentmethod_Electronic check: 0.8037\n"
     ]
    }
   ],
   "source": [
    "import numpy as np\n",
    "\n",
    "# Get feature importance\n",
    "feature_importance = abs(model_smote.coef_[0])\n",
    "features = X_train.columns\n",
    "\n",
    "# Sort features by importance\n",
    "sorted_idx = np.argsort(feature_importance)[::-1]\n",
    "\n",
    "print(\"Top Features Influencing Churn:\")\n",
    "for idx in sorted_idx[:10]:  # Show top 10 features\n",
    "    print(f\"{features[idx]}: {feature_importance[idx]:.4f}\")"
   ]
  },
  {
   "cell_type": "code",
   "execution_count": 33,
   "id": "eb2c2326-e80b-4626-9468-87386fa8be02",
   "metadata": {},
   "outputs": [
    {
     "data": {
      "image/png": "[encoded data removed]",
      "text/plain": [
       "<Figure size 600x400 with 2 Axes>"
      ]
     },
     "metadata": {},
     "output_type": "display_data"
    }
   ],
   "source": [
    "import matplotlib.pyplot as plt\n",
    "import seaborn as sns\n",
    "from sklearn.metrics import confusion_matrix\n",
    "\n",
    "# Generate confusion matrix\n",
    "cm = confusion_matrix(y_test, y_pred_smote)\n",
    "\n",
    "# Plot\n",
    "plt.figure(figsize=(6, 4))\n",
    "sns.heatmap(cm, annot=True, fmt=\"d\", cmap=\"Blues\", xticklabels=[\"No Churn\", \"Churn\"], yticklabels=[\"No Churn\", \"Churn\"])\n",
    "plt.xlabel(\"Predicted\")\n",
    "plt.ylabel(\"Actual\")\n",
    "plt.title(\"Confusion Matrix\")\n",
    "plt.show()"
   ]
  },
  {
   "cell_type": "code",
   "execution_count": null,
   "id": "8c037f3b-d030-4d09-a259-cec8995f4112",
   "metadata": {},
   "outputs": [],
   "source": []
  }
 ],
 "metadata": {
  "kernelspec": {
   "display_name": "Python 3 (ipykernel)",
   "language": "python",
   "name": "python3"
  },
  "language_info": {
   "codemirror_mode": {
    "name": "ipython",
    "version": 3
   },
   "file_extension": ".py",
   "mimetype": "text/x-python",
   "name": "python",
   "nbconvert_exporter": "python",
   "pygments_lexer": "ipython3",
   "version": "3.11.11"
  }
 },
 "nbformat": 4,
 "nbformat_minor": 5
}
